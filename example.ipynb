{
 "cells": [
  {
   "cell_type": "markdown",
   "metadata": {},
   "source": [
    "# Invalidation Protocol\n",
    "\n",
    "It would be helpful to know when cell output goes away so resources it was using can be cleaned up.\n",
    "\n",
    "These resources might include:\n",
    "* setInterval callbacks or setTimeout timer loops\n",
    "* window or document-level event listeners\n",
    "* WebGL stuff? dunno\n",
    "\n",
    "This is along similar lines as a hypothetical \"cell output is in view\" or \"cell output is visible (not collapsed)\" protocol."
   ]
  },
  {
   "cell_type": "markdown",
   "metadata": {},
   "source": [
    "Here we load the shim in the same repo as this notebook: it uses IntersectionObservers and assumptions about the cell names in Jupyter Notebooks to call a function when the cell output div disappears."
   ]
  },
  {
   "cell_type": "code",
   "execution_count": 1,
   "metadata": {},
   "outputs": [
    {
     "data": {
      "text/html": [
       "<script src=\"https://unpkg.com/jupyter-invalidation/index.js\"></script>\n"
      ],
      "text/plain": [
       "<IPython.core.display.HTML object>"
      ]
     },
     "metadata": {},
     "output_type": "display_data"
    }
   ],
   "source": [
    "%%html\n",
    "<script src=\"https://unpkg.com/jupyter-invalidation/index.js\"></script>"
   ]
  },
  {
   "cell_type": "markdown",
   "metadata": {},
   "source": [
    "Now we do something interesting that takes global or finite resources. This could be a reasonable display of a kernel object, I'll write it inline for clarity.\n",
    "\n",
    "This code logs mouseclicks to a div."
   ]
  },
  {
   "cell_type": "code",
   "execution_count": 2,
   "metadata": {
    "scrolled": true
   },
   "outputs": [
    {
     "data": {
      "text/html": [
       "<div id=\"events\" style=\"width: 600px; height 300px;\"></div>\n",
       "<script>\n",
       "(function() {\n",
       "    const onMouseDown = (e) => {\n",
       "        events = document.getElementById('events');\n",
       "        events.innerText = `${events.innerText} [${e.clientX}, ${e.clientY}]`;\n",
       "        window.lastEvent = e;\n",
       "    }\n",
       "    window.addEventListener('mousedown', onMouseDown);\n",
       "})();\n",
       "</script>\n"
      ],
      "text/plain": [
       "<IPython.core.display.HTML object>"
      ]
     },
     "metadata": {},
     "output_type": "display_data"
    }
   ],
   "source": [
    "%%html\n",
    "<div id=\"events\" style=\"width: 600px; height 300px;\"></div>\n",
    "<script>\n",
    "(function() {\n",
    "    const onMouseDown = (e) => {\n",
    "        events = document.getElementById('events');\n",
    "        events.innerText = `${events.innerText} [${e.clientX}, ${e.clientY}]`;\n",
    "        window.lastEvent = e;\n",
    "    }\n",
    "    window.addEventListener('mousedown', onMouseDown);\n",
    "})();\n",
    "</script>"
   ]
  },
  {
   "cell_type": "markdown",
   "metadata": {},
   "source": [
    "If I rerun this cell twice, I get the effect twice.\n",
    "\n",
    "I could stash some state in a global variable to ask the code to remove the old handler before adding the new one the next it runs, but that's both fragile (every kind of JavaScript repr needs its own global registry? Based on which cell it was rendered in?) and doesn't help in the cell deletion case, when I'd like to remove the effects without this code rerunning."
   ]
  },
  {
   "cell_type": "markdown",
   "metadata": {},
   "source": [
    "Here's a version using the invalidation hook:"
   ]
  },
  {
   "cell_type": "code",
   "execution_count": 3,
   "metadata": {},
   "outputs": [
    {
     "data": {
      "text/html": [
       "<div id=\"events2\" style=\"width: 600px; height 300px;\"></div>\n",
       "<script>\n",
       "(function() {\n",
       "    const onMouseDown = (e) => {\n",
       "        events = document.getElementById('events2');\n",
       "        events.innerText = `${events.innerText} [${e.clientX}, ${e.clientY}]`;\n",
       "        window.lastEvent = e;\n",
       "    }\n",
       "    window.addEventListener('mousedown', onMouseDown);\n",
       "    \n",
       "    const cleanup = () => {\n",
       "        console.log('cleaning up old handlers')\n",
       "        window.removeEventListener('mousedown', onMouseDown);\n",
       "    };\n",
       "    \n",
       "    onCellReexecuteOrDelete(document.getElementById('events2'), cleanup);\n",
       "})();\n",
       "</script>\n"
      ],
      "text/plain": [
       "<IPython.core.display.HTML object>"
      ]
     },
     "metadata": {},
     "output_type": "display_data"
    }
   ],
   "source": [
    "%%html\n",
    "<div id=\"events2\" style=\"width: 600px; height 300px;\"></div>\n",
    "<script>\n",
    "(function() {\n",
    "    const onMouseDown = (e) => {\n",
    "        events = document.getElementById('events2');\n",
    "        events.innerText = `${events.innerText} [${e.clientX}, ${e.clientY}]`;\n",
    "        window.lastEvent = e;\n",
    "    }\n",
    "    window.addEventListener('mousedown', onMouseDown);\n",
    "    \n",
    "    const cleanup = () => {\n",
    "        console.log('cleaning up old handlers')\n",
    "        window.removeEventListener('mousedown', onMouseDown);\n",
    "    };\n",
    "    \n",
    "    onCellReexecuteOrDelete(document.getElementById('events2'), cleanup);\n",
    "})();\n",
    "</script>"
   ]
  }
 ],
 "metadata": {
  "kernelspec": {
   "display_name": "Python 3",
   "language": "python",
   "name": "python3"
  },
  "language_info": {
   "codemirror_mode": {
    "name": "ipython",
    "version": 3
   },
   "file_extension": ".py",
   "mimetype": "text/x-python",
   "name": "python",
   "nbconvert_exporter": "python",
   "pygments_lexer": "ipython3",
   "version": "3.7.4"
  }
 },
 "nbformat": 4,
 "nbformat_minor": 2
}
